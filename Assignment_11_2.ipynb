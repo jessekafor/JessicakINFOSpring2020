{
  "nbformat": 4,
  "nbformat_minor": 0,
  "metadata": {
    "colab": {
      "name": "Assignment-11-2.ipynb",
      "provenance": [],
      "authorship_tag": "ABX9TyNjyhTganKPaO1hKhmLjImO",
      "include_colab_link": true
    },
    "kernelspec": {
      "name": "python3",
      "display_name": "Python 3"
    }
  },
  "cells": [
    {
      "cell_type": "markdown",
      "metadata": {
        "id": "view-in-github",
        "colab_type": "text"
      },
      "source": [
        "<a href=\"https://colab.research.google.com/github/jessekafor/JessicakINFOSpring2020/blob/master/Assignment_11_2.ipynb\" target=\"_parent\"><img src=\"https://colab.research.google.com/assets/colab-badge.svg\" alt=\"Open In Colab\"/></a>"
      ]
    },
    {
      "cell_type": "code",
      "metadata": {
        "id": "K0vQnGZuNTJU",
        "colab_type": "code",
        "colab": {}
      },
      "source": [
        "import pymysql\n",
        "import pandas as pd\n",
        "import matplotlib.pyplot as plt\n",
        "import datetime\n",
        "from matplotlib.pyplot import *\n",
        "from pandas import read_sql\n",
        "\n",
        "def get_sales_linechart(filepath):\n",
        "    df = pd.read_excel(filepath)\n",
        "    dates = df['sale date'].values\n",
        "    food = df.drop('sale date', axis=1).values.tolist()\n",
        "\n",
        "    plt.xlabel('Sale Dates', fontsize=12)\n",
        "    plt.xticks(rotation=45)\n",
        "    plt.ylabel('Food', fontsize=12)\n",
        "\n",
        "    plt.legend(loc=\"upper right\", ncol=10)\n",
        "    plt.plot(dates, food)\n",
        "    plt.show()\n",
        "\n",
        "get_sales_linechart(\"C:/Users/Jessica/Downloads/assign11-1-catering_sale_all.xls\")"
      ],
      "execution_count": 0,
      "outputs": []
    },
    {
      "cell_type": "code",
      "metadata": {
        "id": "urnZMz_PNXBM",
        "colab_type": "code",
        "colab": {}
      },
      "source": [
        "import pandas as pd\n",
        "import matplotlib.pyplot as plt\n",
        "from matplotlib.pyplot import *\n",
        "from pandas import read_sql\n",
        "\n",
        "def get_countries_barchart(continent):\n",
        "    world = pymysql.connect(\"localhost\", \"root\", \"Update12!\", \"world\")\n",
        "    sql = 'SELECT Name, LifeExpectancy FROM Country WHERE Continent = \"'+continent+'\"'\n",
        "    read_sql = pd.read_sql(sql, world)\n",
        "    df = read_sql.dropna(axis=0, how='any')\n",
        "    names = df['Name'].values.tolist()\n",
        "    lifexp = df['LifeExpectancy'].values.tolist()\n",
        "\n",
        "    plt.figure(figsize=(20, 3))\n",
        "    plt.ylim(0, 100)\n",
        "    plt.xlabel('Name', fontsize=12)\n",
        "    plt.xticks(rotation=90)\n",
        "    plt.ylabel('Life Expectancy', fontsize=12)\n",
        "    plt.bar(names, lifexp, align='center', width=0.3)\n",
        "    plt.show()\n",
        "    world.close()\n",
        "\n",
        "get_countries_barchart(\"North America\")"
      ],
      "execution_count": 0,
      "outputs": []
    }
  ]
}