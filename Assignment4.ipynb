{
  "nbformat": 4,
  "nbformat_minor": 0,
  "metadata": {
    "colab": {
      "name": "Assignment4.ipynb",
      "provenance": [],
      "authorship_tag": "ABX9TyOpnnHpnMZVJtOdQiql88jF",
      "include_colab_link": true
    },
    "kernelspec": {
      "name": "python3",
      "display_name": "Python 3"
    }
  },
  "cells": [
    {
      "cell_type": "markdown",
      "metadata": {
        "id": "view-in-github",
        "colab_type": "text"
      },
      "source": [
        "<a href=\"https://colab.research.google.com/github/jessekafor/JessicakINFOSpring2020/blob/master/Assignment4.ipynb\" target=\"_parent\"><img src=\"https://colab.research.google.com/assets/colab-badge.svg\" alt=\"Open In Colab\"/></a>"
      ]
    },
    {
      "cell_type": "code",
      "metadata": {
        "id": "8VkqGu_Qd_3a",
        "colab_type": "code",
        "colab": {}
      },
      "source": [
        "def validateFile(name):\n",
        "    size = len(name)\n",
        "    count = 0\n",
        "    location = name.find('.')\n",
        "    for char in name:\n",
        "        if char == \".\":\n",
        "            location = name.find('.',count)\n",
        "            count += 1\n",
        "        else:\n",
        "            count += 1\n",
        "    if \".\" not in name:\n",
        "        print(\"Invalid filename.\")\n",
        "    else:\n",
        "        print(name[location+1:size])\n",
        "\n",
        "fileName = input(\"Enter filename:\")\n",
        "validateFile(fileName)"
      ],
      "execution_count": 0,
      "outputs": []
    },
    {
      "cell_type": "code",
      "metadata": {
        "id": "1klOLlb5en-6",
        "colab_type": "code",
        "colab": {}
      },
      "source": [
        "def replace(s,old,new):\n",
        "    count = 0\n",
        "\n",
        "    for letter in s:\n",
        "        if s[count] == old:\n",
        "            newString = s[0:count] + new + s[(count+1):]\n",
        "            s = newString\n",
        "            count +=1\n",
        "        else:\n",
        "            count +=1\n",
        "    return newString\n",
        "\n",
        "sentence = \"I love spom! Spom is my favorite food. Spom Spom Spom, yum!\"\n",
        "print(replace(sentence,'o','a' ))\n",
        "\n",
        "words = \"Mississippi\"\n",
        "print(replace(words,\"s\",\"S\"))"
      ],
      "execution_count": 0,
      "outputs": []
    },
    {
      "cell_type": "code",
      "metadata": {
        "id": "AKjBi-pWepNA",
        "colab_type": "code",
        "colab": {}
      },
      "source": [
        "import turtle\n",
        "\n",
        "def draw_square():\n",
        "    size = 10\n",
        "    square = turtle.Turtle()\n",
        "    square.color(\"hotpink\")\n",
        "    square.pensize(3)\n",
        "    for _ in range(5):\n",
        "        for _ in range(4):\n",
        "            square.forward(size)\n",
        "            square.left(90)\n",
        "        square.penup()\n",
        "        square.right(90)\n",
        "        square.forward(10)\n",
        "        square.right(90)\n",
        "        square.forward(10)\n",
        "        square.right(180)\n",
        "        square.pendown()\n",
        "        size = size + 20\n",
        "\n",
        "window = turtle.Screen()\n",
        "window.bgcolor(\"lightgreen\")\n",
        "\n",
        "draw_square()\n",
        "\n",
        "window.mainloop()"
      ],
      "execution_count": 0,
      "outputs": []
    },
    {
      "cell_type": "code",
      "metadata": {
        "id": "xM_y4J1KesHy",
        "colab_type": "code",
        "colab": {}
      },
      "source": [
        "import turtle\n",
        "\n",
        "def draw_maze():\n",
        "    size = 0\n",
        "    maze = turtle.Turtle()\n",
        "    maze.color(\"blue\")\n",
        "    maze.pensize(3)\n",
        "    for _ in range(48):\n",
        "        for _ in range(2):\n",
        "            maze.right(90)\n",
        "            maze.forward(size + 10)\n",
        "        size += 10\n",
        "\n",
        "window = turtle.Screen()\n",
        "window.bgcolor(\"lightgreen\")\n",
        "\n",
        "draw_maze()\n",
        "\n",
        "window.mainloop()"
      ],
      "execution_count": 0,
      "outputs": []
    }
  ]
}