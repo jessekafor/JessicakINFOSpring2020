{
  "nbformat": 4,
  "nbformat_minor": 0,
  "metadata": {
    "colab": {
      "name": "Assignment7.ipynb",
      "provenance": [],
      "authorship_tag": "ABX9TyNCaZZEuHptKzv+tQ74HQIL",
      "include_colab_link": true
    },
    "kernelspec": {
      "name": "python3",
      "display_name": "Python 3"
    }
  },
  "cells": [
    {
      "cell_type": "markdown",
      "metadata": {
        "id": "view-in-github",
        "colab_type": "text"
      },
      "source": [
        "<a href=\"https://colab.research.google.com/github/jessekafor/JessicakINFOSpring2020/blob/master/Assignment7.ipynb\" target=\"_parent\"><img src=\"https://colab.research.google.com/assets/colab-badge.svg\" alt=\"Open In Colab\"/></a>"
      ]
    },
    {
      "cell_type": "code",
      "metadata": {
        "id": "VezYip4xjvoJ",
        "colab_type": "code",
        "colab": {}
      },
      "source": [
        "import turtle\n",
        "\n",
        "def draw_square(turtle,sidesize,step):  #draw a square by specified sidesize\n",
        "    if step<5:\n",
        "        turtle.forward(sidesize)\n",
        "        turtle.left(90)\n",
        "        draw_square(turtle,sidesize,step+1)\n",
        "\n",
        "\n",
        "def draw_rec(rectangle,reccount):\n",
        "   rectangle.penup()\n",
        "   rectangle.forward(50)\n",
        "   rectangle.pendown()\n",
        "   if reccount<6:\n",
        "       draw_square(rectangle,20,1)\n",
        "       draw_rec(rectangle,reccount+1)\n",
        "\n",
        "window = turtle.Screen()\n",
        "window.bgcolor(\"lightgreen\")\n",
        "rectangle=turtle.Turtle()\n",
        "rectangle.color(\"red\")\n",
        "rectangle.pensize(3)\n",
        "draw_rec(rectangle,1)\n",
        "window.mainloop()"
      ],
      "execution_count": 0,
      "outputs": []
    },
    {
      "cell_type": "code",
      "metadata": {
        "id": "vjl7Zg8Hj7IQ",
        "colab_type": "code",
        "colab": {}
      },
      "source": [
        "import turtle\n",
        "import math\n",
        "\n",
        "def draw_square(turtle,sidesize,step):  #draw a square by specified sidesize\n",
        "    if step<5:\n",
        "        turtle.forward(sidesize)\n",
        "        turtle.left(90)\n",
        "        draw_square(turtle,sidesize,step+1)\n",
        "\n",
        "def move_position(turtle):        # move to another point\n",
        "    anglestep=30\n",
        "    turtle.right(135)\n",
        "    turtle.penup()\n",
        "    turtle.forward(anglestep)\n",
        "    turtle.pendown()\n",
        "    turtle.left(135)\n",
        "\n",
        "def draw_clip(turtle,size,round):      # draw a clip by loop\n",
        "        if round!=0:\n",
        "            draw_square(turtle,size,1)\n",
        "            move_position(turtle)\n",
        "            size=size+2*math.sqrt(float(30**2/2))\n",
        "            draw_clip(turtle,size,round-1)\n",
        "\n",
        "\n",
        "window=turtle.Screen()\n",
        "window.bgcolor(\"lightgreen\")\n",
        "clip=turtle.Turtle()\n",
        "clip.pencolor(\"Hot Pink\")\n",
        "clip.pensize(5)\n",
        "\n",
        "draw_clip(clip,50,10)\n",
        "\n",
        "window.mainloop()"
      ],
      "execution_count": 0,
      "outputs": []
    },
    {
      "cell_type": "code",
      "metadata": {
        "id": "fpM5BOxWkAhY",
        "colab_type": "code",
        "colab": {}
      },
      "source": [
        "numlist=[1,3,2,4,2,3,2,2,[3,2,2,4,2,[32,3,2,4,2,3,54,3,2,4,2,[322,4,2,2,[4,2,[2,3],12,3],2,3]]]]\n",
        "\n",
        "def recursivecount(numberlist,num):\n",
        "    total=0\n",
        "    for element in numberlist:\n",
        "        if type(element) is list:\n",
        "            total+=recursivecount(element,num)\n",
        "        else:\n",
        "            if element==num:\n",
        "                total+=1\n",
        "    return total\n",
        "\n",
        "print(recursivecount(numlist,2))"
      ],
      "execution_count": 0,
      "outputs": []
    }
  ]
}