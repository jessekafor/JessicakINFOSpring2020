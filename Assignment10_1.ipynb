{
  "nbformat": 4,
  "nbformat_minor": 0,
  "metadata": {
    "colab": {
      "name": "Assignment10-1.ipynb",
      "provenance": [],
      "authorship_tag": "ABX9TyPtyZjQkbpxibVqH+sH+vlf",
      "include_colab_link": true
    },
    "kernelspec": {
      "name": "python3",
      "display_name": "Python 3"
    }
  },
  "cells": [
    {
      "cell_type": "markdown",
      "metadata": {
        "id": "view-in-github",
        "colab_type": "text"
      },
      "source": [
        "<a href=\"https://colab.research.google.com/github/jessekafor/JessicakINFOSpring2020/blob/master/Assignment10_1.ipynb\" target=\"_parent\"><img src=\"https://colab.research.google.com/assets/colab-badge.svg\" alt=\"Open In Colab\"/></a>"
      ]
    },
    {
      "cell_type": "code",
      "metadata": {
        "id": "cJtQhti1GaxU",
        "colab_type": "code",
        "colab": {}
      },
      "source": [
        "import pymysql\n",
        "\n",
        "# Question 1\n",
        "# Exported the database in Workbench pydb.sql\n",
        "\n",
        "# Question 2.2\n",
        "world = pymysql.connect(\"localhost\", \"root\", \"Update12!\", \"world\")\n",
        "dbcursor = world.cursor()\n",
        "\n",
        "\n",
        "def country_all():\n",
        "    sql = \"select * from country\"\n",
        "    command = dbcursor.execute(sql)\n",
        "    data = dbcursor.fetchall()\n",
        "    # print(data)\n",
        "\n",
        "    for row in data:\n",
        "        print(row)\n",
        "\n",
        "    dbcursor.close()\n",
        "    data = \"\"\n",
        "    world.close()\n",
        "\n",
        "\n",
        "country_all()\n",
        "\n",
        "# Question 2.3\n",
        "world = pymysql.connect(\"localhost\", \"root\", \"Update12!\", \"world\")\n",
        "dbcursor = world.cursor()\n",
        "\n",
        "\n",
        "def specific_country(c):\n",
        "    sql = \"select * from country where Name =%s\"\n",
        "    command = dbcursor.execute(sql,c)\n",
        "    data2 = dbcursor.fetchone()\n",
        "    print(\"code \\t\" + str(data2[0]) + \"\\n\"\n",
        "          + \"name \\t\" + str(data2[1]) + \"\\n\"\n",
        "          + \"continent \\t\" + str(data2[2]) + \"\\n\"\n",
        "          + \"region \\t\" + str(data2[3]) + \"\\n\"\n",
        "          + \"SurfaceArea \\t\" + str(data2[4]) + \"\\n\"\n",
        "          + \"IndepYear \\t\" + str(data2[5]) + \"\\n\"\n",
        "          + \"Population \\t\" + str(data2[6]) + \"\\n\"\n",
        "          + \"LifeExpectancy \\t\" + str(data2[7]) + \"\\n\"\n",
        "          + \"GNP \\t\" + str(data2[8]) + \"\\n\"\n",
        "          + \"GNPOld \\t\" + str(data2[9]) + \"\\n\"\n",
        "          + \"LocalName \\t\" + str(data2[0]) + \"\\n\"\n",
        "          + \"GovernmentForm \\t\" + str(data2[0]) + \"\\n\"\n",
        "          + \"HeadofState \\t\" + str(data2[0]) + \"\\n\"\n",
        "          + \"Capital \\t\" + str(data2[0]) + \"\\n\"\n",
        "          + \"Code2 \\t\" + str(data2[0]) + \"\\n\")\n",
        "\n",
        "    dbcursor.close()\n",
        "    data2 = \"\"\n",
        "    world.close()\n",
        "\n",
        "\n",
        "specific_country(\"United States\")"
      ],
      "execution_count": 0,
      "outputs": []
    }
  ]
}