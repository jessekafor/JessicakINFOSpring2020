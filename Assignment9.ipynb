{
  "nbformat": 4,
  "nbformat_minor": 0,
  "metadata": {
    "colab": {
      "name": "Assignment9.ipynb",
      "provenance": [],
      "collapsed_sections": [],
      "authorship_tag": "ABX9TyMuE274bVyr+ZVCUDxlwR4o",
      "include_colab_link": true
    },
    "kernelspec": {
      "name": "python3",
      "display_name": "Python 3"
    }
  },
  "cells": [
    {
      "cell_type": "markdown",
      "metadata": {
        "id": "view-in-github",
        "colab_type": "text"
      },
      "source": [
        "<a href=\"https://colab.research.google.com/github/jessekafor/JessicakINFOSpring2020/blob/master/Assignment9.ipynb\" target=\"_parent\"><img src=\"https://colab.research.google.com/assets/colab-badge.svg\" alt=\"Open In Colab\"/></a>"
      ]
    },
    {
      "cell_type": "code",
      "metadata": {
        "id": "RF2J58vibNnn",
        "colab_type": "code",
        "colab": {
          "base_uri": "https://localhost:8080/",
          "height": 53
        },
        "outputId": "179197e4-c529-4032-f78b-fee6a71906f5"
      },
      "source": [
        "import math\n",
        "class Mytime:\n",
        "\tdef __init__(self,hrs=0,mins=0,secs=0):\n",
        "\t\ttotalsecs=hrs*3600+mins*60+secs\n",
        "\t\tself.hours=totalsecs//3600\n",
        "\t\tleftoversecs=totalsecs % 3600\n",
        "\t\tself.minutes=leftoversecs // 60\n",
        "\t\tself.seconds=leftoversecs % 60\n",
        "\n",
        "\tdef to_seconds(self):\n",
        "\t\treturn self.hours*3600+self.minutes*60+self.seconds\n",
        "\n",
        "\tdef comparetime(self,timeobject):\n",
        "\t\ttime1=self.to_seconds()\n",
        "\t\ttime2=timeobject.to_seconds()\n",
        "\n",
        "\t\tintervalsecs = math.fabs(time1-time2)\n",
        "\t\tprint(intervalsecs)\n",
        "\t\tintervalmins=0\n",
        "\n",
        "\t\twhile intervalsecs>0:\n",
        "\t\t\tintervalsecs-=60\n",
        "\t\t\tintervalmins+=1\n",
        "\t\treturn intervalmins\n",
        "\n",
        "time1=Mytime(11,20,43)\n",
        "time2=Mytime(10,20,30)\n",
        "print(\"the interval minutes are about:\",time1.comparetime(time2))"
      ],
      "execution_count": 23,
      "outputs": [
        {
          "output_type": "stream",
          "text": [
            "3613.0\n",
            "the interval minutes are about: 61\n"
          ],
          "name": "stdout"
        }
      ]
    },
    {
      "cell_type": "code",
      "metadata": {
        "id": "CSLn0LLUb_A2",
        "colab_type": "code",
        "colab": {}
      },
      "source": [
        "\n",
        "class Card:\n",
        "  suits=[\"Clubs\",\"Diamonds\",\"Hearts\",\"Spades\"]\n",
        "  ranks=[\"narf\",\"Ace\",\"2\",\"3\",\"4\",\"5\",\"6\",\"7\",\"8\",\"9\",\"10\",\"Jack\",\"Queen\",\"King\"]\n",
        "\n",
        "\n",
        "  def __init__(self,suit=0,rank=0):\n",
        "    self.suit=suit\n",
        "    self.rank=rank\n",
        "\n",
        "  def __str__(self):\n",
        "    return (self.ranks[self.rank]+\" of \"+self.suits[self.suit])\n",
        "\n",
        "  def cmp(self,other):\n",
        "    if self.suit>other.suit:return 1\n",
        "    if self.suit<other.suit:return -1\n",
        "\n",
        "    if self.ranks[self.rank]==\"Ace\":\n",
        "        print(self.ranks[self.rank])\n",
        "        self.rank=14\n",
        "\n",
        "    if other.ranks[other.rank]==\"Ace\":\n",
        "        print(other.ranks[other.rank])\n",
        "        other.rank=14\n",
        "\n",
        "    if self.rank>other.rank: return 1\n",
        "\n",
        "    if self.rank<other.rank: return -1\n",
        "    return 0\n",
        "\n",
        "\n",
        "  def __eq__(self,other):\n",
        "    return self.cmp(other)==0\n",
        "\n",
        "  def __le__(self,other):\n",
        "    return self.cmp(other)<=0\n",
        "\n",
        "  def __ge__(self,other):\n",
        "    return self.cmp(other)>=0\n",
        "\n",
        "  def __gt__(self,other):\n",
        "    return self.cmp(other)>0\n",
        "\n",
        "  def __lt__(self,other):\n",
        "    return self.cmp(other)<0\n",
        "\n",
        "  def __ne__(self,other):\n",
        "    return self.cmp(other)!=0\n",
        "\n",
        "card1=Card(1,1)\n",
        "print(\"card1:\",card1)\n",
        "\n",
        "card2=Card(1,13)\n",
        "print(\"card2:\",card2)\n",
        "print(card1>card2)"
      ],
      "execution_count": 0,
      "outputs": []
    },
    {
      "cell_type": "code",
      "metadata": {
        "id": "5gYUScGMGDlH",
        "colab_type": "code",
        "colab": {}
      },
      "source": [
        "readposint=input(\"please input a int number:\")\n",
        "try:\n",
        "  readposint=int(readposint) \n",
        "except ValueError:\n",
        "  readposint=int(input(\"input is valid,please input a positive int number:\"))\n",
        "  if readposint<0:\n",
        "    my_error=ValueError(\"{0} is not a positive number \".format(readposint))\n",
        "    raise my_error\n",
        "\n",
        "try:\n",
        "  print(readposint)\n",
        "except my_error:\n",
        "  print(my_error)"
      ],
      "execution_count": 0,
      "outputs": []
    }
  ]
}