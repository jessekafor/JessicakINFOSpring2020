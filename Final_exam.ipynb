{
  "nbformat": 4,
  "nbformat_minor": 0,
  "metadata": {
    "colab": {
      "name": "Final-exam.ipynb",
      "provenance": [],
      "collapsed_sections": [],
      "authorship_tag": "ABX9TyPSjZeUUKbzOxdnJwpwOf+A",
      "include_colab_link": true
    },
    "kernelspec": {
      "name": "python3",
      "display_name": "Python 3"
    }
  },
  "cells": [
    {
      "cell_type": "markdown",
      "metadata": {
        "id": "view-in-github",
        "colab_type": "text"
      },
      "source": [
        "<a href=\"https://colab.research.google.com/github/jessekafor/JessicakINFOSpring2020/blob/master/Final_exam.ipynb\" target=\"_parent\"><img src=\"https://colab.research.google.com/assets/colab-badge.svg\" alt=\"Open In Colab\"/></a>"
      ]
    },
    {
      "cell_type": "markdown",
      "metadata": {
        "id": "ePZ-bdYpYnQJ",
        "colab_type": "text"
      },
      "source": [
        "1. write a function which could print a string content. The requirements are as follows (20’)\n",
        "*   (1) the function accepts one argument which is printed as the string content (10’)\n",
        "*   (2) the value of the argument should be provided in command line (10’)"
      ]
    },
    {
      "cell_type": "code",
      "metadata": {
        "id": "noXrzPGEMLPq",
        "colab_type": "code",
        "colab": {
          "base_uri": "https://localhost:8080/",
          "height": 53
        },
        "outputId": "8475120e-e834-4971-d4ad-0f191d25e673"
      },
      "source": [
        "def helloWorld(value):\n",
        "    print(value);\n",
        "\n",
        "value = input(\"please input a string: \")\n",
        "#accept as an argument\n",
        "helloWorld(value)"
      ],
      "execution_count": 34,
      "outputs": [
        {
          "output_type": "stream",
          "text": [
            "please input a string: hello world!\n",
            "hello world!\n"
          ],
          "name": "stdout"
        }
      ]
    },
    {
      "cell_type": "markdown",
      "metadata": {
        "id": "fdGgbxjQipFA",
        "colab_type": "text"
      },
      "source": [
        "2. Write a program that could sum all the even digit in the scope of 1-1000. The requirements are as follows. (20’)\n",
        "*   (1) use the function of range to express the scope of 1-1000 (10’)\n",
        "*   (2) use for loop to deal with the scope (10’)"
      ]
    },
    {
      "cell_type": "code",
      "metadata": {
        "id": "IEhGtipHOFGA",
        "colab_type": "code",
        "colab": {
          "base_uri": "https://localhost:8080/",
          "height": 35
        },
        "outputId": "3cc4f22f-fd47-4977-be21-fd16d3186317"
      },
      "source": [
        "total = 0\n",
        "#in the range added one to include 1000 in the scope\n",
        "for i in range(1, 1000+1):\n",
        "  if i % 2 == 0:\n",
        "    total += i\n",
        "\n",
        "print(total)"
      ],
      "execution_count": 19,
      "outputs": [
        {
          "output_type": "stream",
          "text": [
            "250500\n"
          ],
          "name": "stdout"
        }
      ]
    },
    {
      "cell_type": "markdown",
      "metadata": {
        "id": "7Ufd-Pnmi3xu",
        "colab_type": "text"
      },
      "source": [
        "\n",
        "3: Given a number list which is numbers=[12,10,3,2,[6,[7,8,9],19,21],21]. Write a function that can get the product of all the numbers in the list. The requirements are as follows. (20’)\n",
        "*   (1) write the function by recursion (10’)\n",
        "*   (2) the “numbers” should be an argument of the function (5’)\n",
        "*   (3) the function returns a number (5’)\n"
      ]
    },
    {
      "cell_type": "code",
      "metadata": {
        "id": "bmj6zxJrSavh",
        "colab_type": "code",
        "colab": {
          "base_uri": "https://localhost:8080/",
          "height": 35
        },
        "outputId": "19172bc9-4cca-48fb-c581-b8c5cb5bb0dd"
      },
      "source": [
        "def productOfNums(numbers,product):\n",
        "  for i in numbers:\n",
        "    if type(i) is list:\n",
        "      #function calling itself\n",
        "      product=productOfNums(i,product)\n",
        "    else:\n",
        "      product=product*i\n",
        "\n",
        "  return product\n",
        "\n",
        "numbers=[12,10,3,2,[6,[7,8,9],19,21],21]\n",
        "#I start off product with 1 because anything multiplied by 1 is itself\n",
        "print(productOfNums(numbers,1))"
      ],
      "execution_count": 33,
      "outputs": [
        {
          "output_type": "stream",
          "text": [
            "18243429120\n"
          ],
          "name": "stdout"
        }
      ]
    },
    {
      "cell_type": "markdown",
      "metadata": {
        "id": "1B7rdhGAihk5",
        "colab_type": "text"
      },
      "source": [
        "4. Given a matrix which is matrix=[[23,43,12],[32,12,52],[15,35,52],[19,28,56]]. Write a function to complete the following task. (30’)\n",
        "*   (1) turn the matrix (List) into an array (5’)\n",
        "*   (2) use mask to set all the value above 20 to 0 (15’)\n",
        "*   (3) output the result into a txt file (10’)\n",
        "\n",
        "On video: https://drive.google.com/file/d/1zrYps5vF2CRhpmxoc25sCWjG8QdO-BWs/view\n"
      ]
    },
    {
      "cell_type": "code",
      "metadata": {
        "id": "RwdSGh4-YYCw",
        "colab_type": "code",
        "colab": {}
      },
      "source": [
        "\n",
        "import numpy as np\n",
        "from numpy import *\n",
        "\n",
        "def newListMatrix():\n",
        "  matrix=[[23,43,12],[32,12,52],[15,35,52],[19,28,56]]\n",
        "  newList = np.array(matrix)\n",
        "  newList[newList > 20 ] = 0\n",
        "  with open('results.txt', 'w') as output:\n",
        "      output.write(str(newList))\n",
        "  output.close()\n",
        "\n",
        "newListMatrix()"
      ],
      "execution_count": 0,
      "outputs": []
    },
    {
      "cell_type": "markdown",
      "metadata": {
        "id": "m4u9job_isFw",
        "colab_type": "text"
      },
      "source": [
        "5. Given a number list which is numbers=[1,3,2,4,2,3,2,2,3,2,2,4,2,32,3,2,4,2,3,5,3,2,4,2,2,4,2,2,4,2,2,3,1,3,2,3]. Write a function to complete the following task. (30’)\n",
        "*   (1) count the frequency of each different number in numbers list (10’)\n",
        "*   (2) store the result into dictionary (10’)\n",
        "*   (3) print it out (10’)\n",
        "\n"
      ]
    },
    {
      "cell_type": "code",
      "metadata": {
        "id": "f2DoQwPHgbQn",
        "colab_type": "code",
        "colab": {
          "base_uri": "https://localhost:8080/",
          "height": 125
        },
        "outputId": "61e81c01-fcdf-4de7-816e-f49931e1df18"
      },
      "source": [
        "numbers=[1,3,2,4,2,3,2,2,3,2,2,4,2,32,3,2,4,2,3,5,3,2,4,2,2,4,2,2,4,2,2,3,1,3,2,3]\n",
        "\n",
        "def countFreq(numbers):\n",
        "  dictItems = dict()\n",
        "\n",
        "  for i in numbers:\n",
        "    if i in dictItems:\n",
        "      dictItems[i] += 1\n",
        "    else:\n",
        "      dictItems[i] = 1\n",
        "\n",
        "  dictItems = {key: value for key, value in dictItems.items() if value > 0}\n",
        "  for key, value in dictItems.items():\n",
        "    print(key, value)\n",
        "\n",
        "countFreq(numbers)\n"
      ],
      "execution_count": 39,
      "outputs": [
        {
          "output_type": "stream",
          "text": [
            "1 2\n",
            "3 9\n",
            "2 17\n",
            "4 6\n",
            "32 1\n",
            "5 1\n"
          ],
          "name": "stdout"
        }
      ]
    },
    {
      "cell_type": "markdown",
      "metadata": {
        "id": "iXMGdQ_iq6je",
        "colab_type": "text"
      },
      "source": [
        "6: Create a class Point which represent a point in two dimensions. It has two properties x and\n",
        "y. The detail requirements are as follows.\n",
        "*   (1) When creating an object of Point, we can assign the value to x and y. If we don’t provide\n",
        "the value, they will be 0. (10’)\n",
        "*   (2) If we print the object of Point directly, it will output the value of x and y. Its running\n",
        "effect is as follows. (10’)"
      ]
    },
    {
      "cell_type": "code",
      "metadata": {
        "id": "_6Y9yRVxrIXk",
        "colab_type": "code",
        "colab": {
          "base_uri": "https://localhost:8080/",
          "height": 35
        },
        "outputId": "cd2f0955-e20d-4dde-afda-2ddf933030f2"
      },
      "source": [
        "class Point:\n",
        "  def __init__(self,x=0,y=0):\n",
        "    self.x=x\n",
        "    self.y=y\n",
        "\n",
        "def print_point(p):\n",
        "  print(\"The Point is ({0},{1})\".format(p.x,p.y))\n",
        "\n",
        "p=Point(3,4)\n",
        "print_point(p)"
      ],
      "execution_count": 20,
      "outputs": [
        {
          "output_type": "stream",
          "text": [
            "The Point is (3,4)\n"
          ],
          "name": "stdout"
        }
      ]
    },
    {
      "cell_type": "markdown",
      "metadata": {
        "id": "NBvDHk2urUXV",
        "colab_type": "text"
      },
      "source": [
        "*   (3) if we create two different objects of Point which are p1 and p2, (p1+p2) will get a new\n",
        "Point whose x is (p1.x+p2.x) and y is (p1.y+p2.y). Suppose p1(1,3) and p2(3.,4), then the\n",
        "result of print(p1+p2) is shown as follows. (10’)"
      ]
    },
    {
      "cell_type": "code",
      "metadata": {
        "id": "bXsDA8V1rc-L",
        "colab_type": "code",
        "colab": {
          "base_uri": "https://localhost:8080/",
          "height": 35
        },
        "outputId": "62937660-9b1d-4e3f-9823-1e487d7bc0ca"
      },
      "source": [
        "class Point:\n",
        "  def __init__(self,x=0,y=0):\n",
        "    self.x=x\n",
        "    self.y=y\n",
        "    \n",
        "def add_points(p1,p2):\n",
        "  mx=(p1.x+p2.x)\n",
        "  my=(p1.y+p2.y)\n",
        "  return Point(mx,my)\n",
        "\n",
        "def print_point(p):\n",
        "  print(\"The Point is ({0},{1})\".format(p.x,p.y))\n",
        "\n",
        "p1=Point(1,3)\n",
        "p2=Point(3,4)\n",
        "\n",
        "#The result in the docx says its (5,7) which is wrong since (p1.x+p2.x) is (1+3) = 4 so (4,7)\n",
        "print_point(add_points(p1,p2))"
      ],
      "execution_count": 24,
      "outputs": [
        {
          "output_type": "stream",
          "text": [
            "The Point is (4,7)\n"
          ],
          "name": "stdout"
        }
      ]
    },
    {
      "cell_type": "markdown",
      "metadata": {
        "id": "Pyz9CDNTre8L",
        "colab_type": "text"
      },
      "source": [
        "7: Given an excel file named “catering_sale_all.xls”. It stores the sale situation of several\n",
        "kinds of food on one month. Write a program that could print the total sales volume of the\n",
        "month by a specific food. The detail requirements are follows.(50’)\n",
        "\n",
        "*   (1) when running the program, it will list all the food with a fixed number in \n",
        "the excel (10’)\n",
        "*   (2) it notify a user to specific one number (10’)\n",
        "*   (3) it print the specific food’s total sales volume of one month (10’)\n",
        "*   (4) after print the result, a user could switch to print another food’s sales volume (10’)\n",
        "*   (5) when the user select exit, the program exits (10’)\n",
        "Its running effects are as follows."
      ]
    },
    {
      "cell_type": "code",
      "metadata": {
        "id": "rvE9hMtasmzj",
        "colab_type": "code",
        "colab": {}
      },
      "source": [
        "import pandas as pd\n",
        "import numpy as np\n",
        "import sys\n",
        "\n",
        "df = pd.read_excel('catering_sale_all.xls')\n",
        "col = df.columns[1:].values.tolist()\n",
        "insert_at = 0\n",
        "#copy of food column names\n",
        "food = col[:]\n",
        "food[insert_at:insert_at] = ['exit']\n",
        "row = len(food)\n",
        "\n",
        "for i in range(row):\n",
        "  print(i,food[i])\n",
        "\n",
        "#Python 3 so we use input not raw_input\n",
        "\n",
        "num = input(\"please input a number: \")\n",
        "\n",
        "if int(num) == 0:\n",
        "  sys.exit()\n",
        "\n",
        "while int(num) >= 1 and int(num) < 11:\n",
        "  total_volume = sum(df[food[int(num)]])\n",
        "  column_name = food[int(num)]\n",
        "  print(\"The total sale of \"+str(column_name)+\" is \"+str(total_volume))\n",
        "  for i in range(row):\n",
        "    print(i, food[i])\n",
        "  num = input(\"please input a number: \")"
      ],
      "execution_count": 0,
      "outputs": []
    },
    {
      "cell_type": "markdown",
      "metadata": {
        "id": "q06Nvj_msumB",
        "colab_type": "text"
      },
      "source": [
        "8. Given a sql file named “world.sql” which are exported from MySQL by MySQL GUI\n",
        "Tools (For Mac: MySQL Workbench, For Windows: MySQL Administrator). Write a series of functions to complete the following tasks. (50’)\n",
        "*   (1) import the data into MySQL — this is an operation not program (10’)\n",
        "The result is as follows.\n",
        "*   (2) write a function to connect to the ”world” schema by using of “pymysql” module (10’)\n",
        "*   (3) For the “country” table, write a function to retrieve the average life expectancy of every\n",
        "continent (20’)\n",
        "*   (4) print the result (10’)"
      ]
    },
    {
      "cell_type": "code",
      "metadata": {
        "id": "P1UnsNhDs_-Z",
        "colab_type": "code",
        "colab": {}
      },
      "source": [
        "import pymysql\n",
        "\n",
        "def conndb():\n",
        "  world = pymysql.connect(\"localhost\", \"root\", \"Update12!\", \"world\")\n",
        "  dbcursor = world.cursor()\n",
        "  return (world,dbcursor)\n",
        "\n",
        "def avgLifeExpectancy():\n",
        "  conn=conndb()\n",
        "  sql = \"SELECT AVG(LifeExpectancy), Continent FROM country GROUP BY Continent\"\n",
        "  command = conn[1].execute(sql)\n",
        "  data = conn[1].fetchall()\n",
        "\n",
        "  print(\"avglife | continent\")\n",
        "  for row in data:\n",
        "    print(row[0],\" | \",row[1])\n",
        "\n",
        "  conn[1].close()\n",
        "  data = \"\"\n",
        "  conn[0].close()\n",
        "\n",
        "avgLifeExpectancy()"
      ],
      "execution_count": 0,
      "outputs": []
    },
    {
      "cell_type": "markdown",
      "metadata": {
        "id": "YOXQw8sOtA6S",
        "colab_type": "text"
      },
      "source": [
        "9. Using the “world” schema imported in Question 8. For the “country” table, write a series of functions to complete the following tasks. (50’)\n",
        "*   (1) write a function to connect to the ”world” schema by using of “pymysql” module (10’)\n",
        "*   (2) write a function to calculate the total population by every continent (20’)\n",
        "*   (3) use pie plot to display the result. (20’)\n",
        "The final result is as follows."
      ]
    },
    {
      "cell_type": "code",
      "metadata": {
        "id": "qppxzUx0toGK",
        "colab_type": "code",
        "colab": {}
      },
      "source": [
        "import pymysql\n",
        "import matplotlib.pyplot as plt\n",
        "\n",
        "def conndb():\n",
        "  world = pymysql.connect(\"localhost\", \"root\", \"Update12!\", \"world\")\n",
        "  dbcursor = world.cursor()\n",
        "  return (world,dbcursor)\n",
        "\n",
        "def populationPieChart():\n",
        "  conn=conndb()\n",
        "  sql = \"SELECT SUM(Population), Continent FROM country GROUP BY Continent\"\n",
        "  conn[1].execute(sql)\n",
        "  data = conn[1].fetchall()\n",
        "\n",
        "  population =[]\n",
        "  continent=[]\n",
        "  explode= 0.1,0.1,0.1,0.1,0.1,0.1,0.1\n",
        "\n",
        "  for row in data:\n",
        "    population.append(row[0])\n",
        "    continent.append(str(row[1]))\n",
        "\n",
        "  #Plot\n",
        "  plt.title('population by continent')\n",
        "  plt.pie(population, labels=continent, explode=explode, autopct='%.1f%%', labeldistance=1.2, shadow=False, startangle=120)\n",
        "  plt.show()\n",
        "\n",
        "  conn[1].close()\n",
        "  data = \"\"\n",
        "  conn[0].close()\n",
        "\n",
        "populationPieChart()"
      ],
      "execution_count": 0,
      "outputs": []
    },
    {
      "cell_type": "markdown",
      "metadata": {
        "id": "5Vzh6X0mtqra",
        "colab_type": "text"
      },
      "source": [
        "10. Given a csv file named “energy-production.csv”. It stores energy production of one area between 1973 and 2014. Write a series of functions to complete the following tasks. (50’)\n",
        "*   (1) use “panda” to load the “energy-production.csv” file (10’)\n",
        "*   (2) Write a function which accept year (1973-2014) as argument to retrieve the specific\n",
        "year’s energy production in detail. (20’)\n",
        "*   (3) use bar plot to display the retrieved result. (20’)"
      ]
    },
    {
      "cell_type": "code",
      "metadata": {
        "id": "NGmjoB-Ytp8Q",
        "colab_type": "code",
        "colab": {}
      },
      "source": [
        "import pandas as pd\n",
        "import matplotlib.pyplot as plt\n",
        "\n",
        "def energyBarChart(year):\n",
        "  data = pd.read_csv(\"energy-production.csv\")\n",
        "  row=len(data)\n",
        "  columns = data.columns[2:]\n",
        "\n",
        "  for i in range(row):\n",
        "    if int(year) == data['Year'][i]:\n",
        "      rowIndex = data.iloc[i]\n",
        "      values = rowIndex[2:].values.tolist()\n",
        "\n",
        "  plt.bar(columns,values)\n",
        "  plt.xticks(rotation=-45)\n",
        "  plt.tight_layout()\n",
        "  plt.show()\n",
        "\n",
        "year = input(\"please input a year between 1973-2014: \")\n",
        "energyBarChart(year)\n"
      ],
      "execution_count": 0,
      "outputs": []
    }
  ]
}