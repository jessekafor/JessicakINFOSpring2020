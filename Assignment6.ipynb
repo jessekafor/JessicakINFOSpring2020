{
  "nbformat": 4,
  "nbformat_minor": 0,
  "metadata": {
    "colab": {
      "name": "Assignment6.ipynb",
      "provenance": [],
      "authorship_tag": "ABX9TyMln8b0AH6G9/cEyR+k3YY2",
      "include_colab_link": true
    },
    "kernelspec": {
      "name": "python3",
      "display_name": "Python 3"
    }
  },
  "cells": [
    {
      "cell_type": "markdown",
      "metadata": {
        "id": "view-in-github",
        "colab_type": "text"
      },
      "source": [
        "<a href=\"https://colab.research.google.com/github/jessekafor/JessicakINFOSpring2020/blob/master/Assignment6.ipynb\" target=\"_parent\"><img src=\"https://colab.research.google.com/assets/colab-badge.svg\" alt=\"Open In Colab\"/></a>"
      ]
    },
    {
      "cell_type": "code",
      "metadata": {
        "id": "4oB3U30phY6k",
        "colab_type": "code",
        "colab": {}
      },
      "source": [
        "import numpy as np\n",
        "\n",
        "def writenum():\n",
        "    numlist=\"120,100,30,22,390,30,20,89,300,400\"\n",
        "    with open(\"numlist.txt\",\"w\") as numfile:\n",
        "        numfile.write(numlist)\n",
        "    numfile.close()\n",
        "\n",
        "def calcnum():\n",
        "    intlist=[]\n",
        "    with open(\"numlist.txt\",\"r\") as numfile:\n",
        "        numlist=numfile.read()\n",
        "        intlist=list(map(int, numlist.split(\",\")))\n",
        "    numfile.close()\n",
        "\n",
        "    arraylist=np.array(intlist)\n",
        "    arraylist[arraylist>100]=100\n",
        "\n",
        "    with open(\"resultlist.txt\",\"w\") as resfile:\n",
        "        resfile.write(str(arraylist))\n",
        "    resfile.close()\n",
        "\n",
        "writenum()\n",
        "calcnum()"
      ],
      "execution_count": 0,
      "outputs": []
    },
    {
      "cell_type": "code",
      "metadata": {
        "id": "iTH6p1QOjS4-",
        "colab_type": "code",
        "colab": {
          "base_uri": "https://localhost:8080/",
          "height": 34
        },
        "outputId": "b5395575-90d7-4e47-9f85-c5959b3cec9c"
      },
      "source": [
        "import random\n",
        "\n",
        "studentlist=(\n",
        "               (\"1001\",\"John\"),(\"1002\",\"Alice\"),(\"1003\",\"Elysa\"),(\"1004\",\"Julia\"),(\"1005\",\"Ben\"),\n",
        "               (\"1006\",\"Jack\"),(\"1007\",\"Benny\"),(\"1008\",\"Jenny\"),(\"1009\",\"Tom\"),(\"1010\",\"tommy\")\n",
        "             )\n",
        "\n",
        "def writestulist():\n",
        "    with open(\"studentlist.txt\",\"w\") as wfile:\n",
        "        for stuid,stuname in studentlist:\n",
        "            student=stuid+\",\"+stuname+\"#\"\n",
        "            wfile.write(student)\n",
        "    wfile.close()\n",
        "\n",
        "def rollcall():\n",
        "    with open(\"studentlist.txt\",\"r\") as rfile:\n",
        "        rng=random.Random()\n",
        "        pos=rng.randrange(0,10)\n",
        "        stulist=rfile.read()\n",
        "        stulist=stulist.split(\"#\")\n",
        "        print(stulist[pos])\n",
        "\n",
        "writestulist()\n",
        "rollcall()"
      ],
      "execution_count": 7,
      "outputs": [
        {
          "output_type": "stream",
          "text": [
            "1005,Ben\n"
          ],
          "name": "stdout"
        }
      ]
    }
  ]
}