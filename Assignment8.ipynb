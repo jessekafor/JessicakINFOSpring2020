{
  "nbformat": 4,
  "nbformat_minor": 0,
  "metadata": {
    "colab": {
      "name": "Assignment8.ipynb",
      "provenance": [],
      "authorship_tag": "ABX9TyN4VvQ+WfrRp3nqdVc+61Dn",
      "include_colab_link": true
    },
    "kernelspec": {
      "name": "python3",
      "display_name": "Python 3"
    }
  },
  "cells": [
    {
      "cell_type": "markdown",
      "metadata": {
        "id": "view-in-github",
        "colab_type": "text"
      },
      "source": [
        "<a href=\"https://colab.research.google.com/github/jessekafor/JessicakINFOSpring2020/blob/master/Assignment8.ipynb\" target=\"_parent\"><img src=\"https://colab.research.google.com/assets/colab-badge.svg\" alt=\"Open In Colab\"/></a>"
      ]
    },
    {
      "cell_type": "code",
      "metadata": {
        "id": "HtXyq0bV3AnX",
        "colab_type": "code",
        "outputId": "9997ec94-98ad-42bd-c6c9-7b8938fc3ee9",
        "colab": {
          "base_uri": "https://localhost:8080/",
          "height": 35
        }
      },
      "source": [
        "\n",
        "class Point:\n",
        "  def __init__(self,x=0,y=0):\n",
        "    self.x=x\n",
        "    self.y=y\n",
        "\n",
        "  def distance_from_origin(self):\n",
        "    return (self.x**2+self.y**2)**0.5\n",
        "\n",
        "  def __str__(self):\n",
        "    #return \"You can't print me!\"\n",
        "    return \"({0},{1})\".format(self.x,self.y)\n",
        "\n",
        "  def halfway(self,target):\n",
        "    mx=(self.x+target.x)/2\n",
        "    my=(self.y+target.y)/2\n",
        "    return Point(mx,my)\n",
        "\n",
        "import math\n",
        "\n",
        "def distance(p1,p2):\n",
        "  deltaX=p1.x-p2.x\n",
        "  deltaY=p1.y-p2.y\n",
        "  return math.sqrt(deltaX**2+deltaY**2)\n",
        "\n",
        "p1=Point(3,4)\n",
        "p2=Point(5,6)\n",
        "distance(p1,p2)"
      ],
      "execution_count": 0,
      "outputs": [
        {
          "output_type": "execute_result",
          "data": {
            "text/plain": [
              "2.8284271247461903"
            ]
          },
          "metadata": {
            "tags": []
          },
          "execution_count": 1
        }
      ]
    },
    {
      "cell_type": "code",
      "metadata": {
        "id": "aKMaGTY-8KY9",
        "colab_type": "code",
        "outputId": "f17a5116-ece7-46a2-df5c-8d0c7c0fa69e",
        "colab": {
          "base_uri": "https://localhost:8080/",
          "height": 53
        }
      },
      "source": [
        "class Point:\n",
        "  def __init__(self,x=0,y=0):\n",
        "    self.x=x\n",
        "    self.y=y\n",
        "\n",
        "  def distance_from_origin(self):\n",
        "    return (self.x**2+self.y**2)**0.5\n",
        "\n",
        "  def __str__(self):\n",
        "    return \"({0},{1})\".format(self.x,self.y)\n",
        "\n",
        "  def halfway(self,target):\n",
        "    mx=(self.x+target.x)/2\n",
        "    my=(self.y+target.y)/2\n",
        "    return Point(mx,my)\n",
        "\n",
        "  def reflect_x(self):\n",
        "    return Point(self.x,-self.y)\n",
        "\n",
        "point = Point(5,2)\n",
        "newpoint = point.reflect_x()\n",
        "\n",
        "print(point)\n",
        "print(newpoint)"
      ],
      "execution_count": 0,
      "outputs": [
        {
          "output_type": "stream",
          "text": [
            "(5,2)\n",
            "(5,-2)\n"
          ],
          "name": "stdout"
        }
      ]
    },
    {
      "cell_type": "code",
      "metadata": {
        "id": "WJp8Xk2B8Sr8",
        "colab_type": "code",
        "outputId": "8fac87ee-eaff-4a52-97cf-74e024f308d2",
        "colab": {
          "base_uri": "https://localhost:8080/",
          "height": 35
        }
      },
      "source": [
        "\"\"\"  \"\"\"\n",
        "\n",
        "class Point:\n",
        "  def __init__(self,x=0,y=0):\n",
        "    self.x=x\n",
        "    self.y=y\n",
        "\n",
        "  def distance_from_origin(self):\n",
        "    return (self.x**2+self.y**2)**0.5\n",
        "\n",
        "  def __str__(self):\n",
        "    return \"({0},{1})\".format(self.x,self.y)\n",
        "\n",
        "  def halfway(self,target):\n",
        "    mx=(self.x+target.x)/2\n",
        "    my=(self.y+target.y)/2\n",
        "    return Point(mx,my)\n",
        "\n",
        "  def reflect_x(self):\n",
        "    return Point(self.x*-1,self.y)\n",
        "\n",
        "class Rectangle:\n",
        "    def __init__(self, posn, w, h):\n",
        "        self.corner = posn\n",
        "        self.width = w\n",
        "        self.height = h\n",
        "\n",
        "    def __str__(self):\n",
        "        return \"({0},{1},{2})\".format(self.corner, self.width, self.height)\n",
        "\n",
        "    def grow(self,delta_width,delta_heigh):\n",
        "        self.width+=delta_width\n",
        "        self.height+=delta_heigh\n",
        "\n",
        "    def move(self,dx,dy):\n",
        "        self.corner.x+=dx\n",
        "        self.corner.y+=dy\n",
        "\n",
        "    def area(self):\n",
        "        return self.width * self.height\n",
        "        \n",
        "rectangle = Rectangle(7,3,87)\n",
        "area = rectangle.area()\n",
        "print(area)"
      ],
      "execution_count": 0,
      "outputs": [
        {
          "output_type": "stream",
          "text": [
            "261\n"
          ],
          "name": "stdout"
        }
      ]
    },
    {
      "cell_type": "code",
      "metadata": {
        "id": "BDRAPyNB8j3p",
        "colab_type": "code",
        "outputId": "62e80b81-088d-4614-e9f7-f820a4eb3c17",
        "colab": {
          "base_uri": "https://localhost:8080/",
          "height": 53
        }
      },
      "source": [
        "class Point:\n",
        "  def __init__(self,x=0,y=0):\n",
        "    self.x=x\n",
        "    self.y=y\n",
        "\n",
        "  def distance_from_origin(self):\n",
        "    return (self.x**2+self.y**2)**0.5\n",
        "\n",
        "  def __str__(self):\n",
        "    #return \"You can't print me!\"\n",
        "    return \"({0},{1})\".format(self.x,self.y)\n",
        "\n",
        "  def halfway(self,target):\n",
        "    mx=(self.x+target.x)/2\n",
        "    my=(self.y+target.y)/2\n",
        "    return Point(mx,my)\n",
        "\n",
        "  def reflect_x(self):\n",
        "    return Point(self.x*-1,self.y)\n",
        "\n",
        "\n",
        "class Rectangle:\n",
        "    def __init__(self, posn, w, h):\n",
        "        self.corner = posn\n",
        "        self.width = w\n",
        "        self.height = h\n",
        "\n",
        "    def __str__(self):\n",
        "        return \"({0},{1},{2})\".format(self.corner, self.width, self.height)\n",
        "\n",
        "    def grow(self,delta_width,delta_heigh):\n",
        "        self.width+=delta_width\n",
        "        self.height+=delta_heigh\n",
        "\n",
        "    def move(self,dx,dy):\n",
        "        self.corner.x+=dx\n",
        "        self.corner.y+=dy\n",
        "\n",
        "    def area(self):\n",
        "        return self.width * self.height\n",
        "    \n",
        "    def swap(self):\n",
        "        self.width,self.height = self.height,self.width\n",
        "        \n",
        "rectangle = Rectangle(Point(5,8),10,9)\n",
        "print(rectangle)\n",
        "rectangle.swap()\n",
        "print(rectangle)"
      ],
      "execution_count": 0,
      "outputs": [
        {
          "output_type": "stream",
          "text": [
            "((5,8),10,9)\n",
            "((5,8),9,10)\n"
          ],
          "name": "stdout"
        }
      ]
    },
    {
      "cell_type": "code",
      "metadata": {
        "id": "tqsZDGG5132V",
        "colab_type": "code",
        "outputId": "8bd08006-d085-4b53-c03c-d03f27a43afd",
        "colab": {
          "base_uri": "https://localhost:8080/",
          "height": 89
        }
      },
      "source": [
        "class Point:\n",
        "  def __init__(self,x=0,y=0):\n",
        "    self.x=x\n",
        "    self.y=y\n",
        "\n",
        "  def distance_from_origin(self):\n",
        "    return (self.x**2+self.y**2)**0.5\n",
        "\n",
        "  def __str__(self):\n",
        "    return \"({0},{1})\".format(self.x,self.y)\n",
        "\n",
        "  def halfway(self,target):\n",
        "    mx=(self.x+target.x)/2\n",
        "    my=(self.y+target.y)/2\n",
        "    return Point(mx,my)\n",
        "\n",
        "  def reflect_x(self):\n",
        "    return Point(self.x*-1,self.y)\n",
        "\n",
        "\n",
        "class Rectangle:\n",
        "    def __init__(self, posn, w, h):\n",
        "        self.corner = posn\n",
        "        self.width = w\n",
        "        self.height = h\n",
        "\n",
        "    def __str__(self):\n",
        "        return \"({0},{1},{2})\".format(self.corner, self.width, self.height)\n",
        "\n",
        "    def grow(self,delta_width,delta_heigh):\n",
        "        self.width+=delta_width\n",
        "        self.height+=delta_heigh\n",
        "\n",
        "    def move(self,dx,dy):\n",
        "        self.corner.x+=dx\n",
        "        self.corner.y+=dy\n",
        "\n",
        "    def area(self):\n",
        "        return self.width * self.height\n",
        "    \n",
        "    def swap(self):\n",
        "        self.width,self.height = self.height,self.width\n",
        "\n",
        "def in_range(corner,width,height,x,y):\n",
        "        xrange = []\n",
        "        yrange = []\n",
        "        for elem in range (corner.x, (corner.x + width)):\n",
        "          xrange.append(elem)\n",
        "        for elem in range (corner.y, (corner.y + height)):\n",
        "          yrange.append(elem)\n",
        "        if xrange[0] < x <= xrange[-1]: \n",
        "            if yrange[0] < y <= yrange[-1]:\n",
        "                return True\n",
        "        return False\n",
        "        \n",
        "rectangle = Rectangle(Point(10,10),5,9)\n",
        "point1 = Point(10,13)\n",
        "point2 = Point(2,6)\n",
        "print(\"Rectangle:\",rectangle.__str__())\n",
        "print(\"Point:\",point1)\n",
        "\n",
        "print(in_range(rectangle.corner,rectangle.width,rectangle.height,\n",
        "               point1.x,point1.y))\n",
        "\n",
        "print(in_range(rectangle.corner,rectangle.width,rectangle.height,\n",
        "               point2.x,point2.y))"
      ],
      "execution_count": 0,
      "outputs": [
        {
          "output_type": "stream",
          "text": [
            "Rectangle: ((10,10),5,9)\n",
            "Point: (10,13)\n",
            "False\n",
            "False\n"
          ],
          "name": "stdout"
        }
      ]
    }
  ]
}