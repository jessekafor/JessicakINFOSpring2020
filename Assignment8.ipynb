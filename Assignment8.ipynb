{
  "nbformat": 4,
  "nbformat_minor": 0,
  "metadata": {
    "colab": {
      "name": "Assignment8.ipynb",
      "provenance": [],
      "authorship_tag": "ABX9TyMTvN08D7T+0fWIEj5hOPUD",
      "include_colab_link": true
    },
    "kernelspec": {
      "name": "python3",
      "display_name": "Python 3"
    }
  },
  "cells": [
    {
      "cell_type": "markdown",
      "metadata": {
        "id": "view-in-github",
        "colab_type": "text"
      },
      "source": [
        "<a href=\"https://colab.research.google.com/github/jessekafor/JessicakINFOSpring2020/blob/master/Assignment8.ipynb\" target=\"_parent\"><img src=\"https://colab.research.google.com/assets/colab-badge.svg\" alt=\"Open In Colab\"/></a>"
      ]
    },
    {
      "cell_type": "code",
      "metadata": {
        "id": "HtXyq0bV3AnX",
        "colab_type": "code",
        "outputId": "821a94ae-3277-499f-973b-c281a18464e9",
        "colab": {
          "base_uri": "https://localhost:8080/",
          "height": 35
        }
      },
      "source": [
        "import math\n",
        "\n",
        "class Point:\n",
        "  def __init__(self,x=0,y=0):\n",
        "    self.x=x\n",
        "    self.y=y\n",
        "\n",
        "  def distance_from_origin(self):\n",
        "    return (self.x**2+self.y**2)**0.5\n",
        "\n",
        "  def __str__(self):\n",
        "    #return \"You can't print me!\"\n",
        "    return \"({0},{1})\".format(self.x,self.y)\n",
        "\n",
        "  def halfway(self,target):\n",
        "    mx=(self.x+target.x)/2\n",
        "    my=(self.y+target.y)/2\n",
        "    return Point(mx,my)\n",
        "\n",
        "def distance(p1,p2):\n",
        "  deltaX=p1.x-p2.x\n",
        "  deltaY=p1.y-p2.y\n",
        "  return math.sqrt(deltaX**2+deltaY**2)\n",
        "\n",
        "p1=Point(4,6)\n",
        "p2=Point(8,2)\n",
        "distance(p1,p2)"
      ],
      "execution_count": 6,
      "outputs": [
        {
          "output_type": "execute_result",
          "data": {
            "text/plain": [
              "5.656854249492381"
            ]
          },
          "metadata": {
            "tags": []
          },
          "execution_count": 6
        }
      ]
    },
    {
      "cell_type": "code",
      "metadata": {
        "id": "aKMaGTY-8KY9",
        "colab_type": "code",
        "outputId": "3aa5d944-f6e1-43bb-c823-94657b9d8531",
        "colab": {
          "base_uri": "https://localhost:8080/",
          "height": 53
        }
      },
      "source": [
        " class Point: \n",
        "  def __init__(self,x=0,y=0):\n",
        "    self.x=x\n",
        "    self.y=y\n",
        "\n",
        "  def distance_from_origin(self):\n",
        "    return (self.x**2+self.y**2)**0.5\n",
        "\n",
        "  def __str__(self):\n",
        "    #return \"You can't print me!\"\n",
        "    return \"({0},{1})\".format(self.x,self.y)\n",
        "\n",
        "  def halfway(self,target):\n",
        "    mx=(self.x+target.x)/2\n",
        "    my=(self.y+target.y)/2\n",
        "    return Point(mx,my)\n",
        "\n",
        "  def refect_x(self):\n",
        "     return Point(self.x,-self.y)\n",
        "     \n",
        "p=Point(2,2)\n",
        "print(\"The reflect x of Point(2,2) is \")\n",
        "print(p.refect_x())"
      ],
      "execution_count": 3,
      "outputs": [
        {
          "output_type": "stream",
          "text": [
            "The reflect x of Point(2,2) is \n",
            "(2,-2)\n"
          ],
          "name": "stdout"
        }
      ]
    },
    {
      "cell_type": "code",
      "metadata": {
        "id": "WJp8Xk2B8Sr8",
        "colab_type": "code",
        "outputId": "5a140748-aa74-45ca-b8c6-f88481c1bc95",
        "colab": {
          "base_uri": "https://localhost:8080/",
          "height": 53
        }
      },
      "source": [
        "class Point:\n",
        "  def __init__(self,x=0,y=0):\n",
        "    self.x=x\n",
        "    self.y=y\n",
        "\n",
        "class Rectangle:\n",
        "    def __init__(self, c, w, h):\n",
        "        self.corner = c\n",
        "        self.width = w\n",
        "        self.height = h\n",
        "\n",
        "    def __str__(self):\n",
        "        return \"({0},{1},{2})\".format(self.corner, self.width, self.height)\n",
        "\n",
        "    def grow(self,delta_width,delta_heigh):\n",
        "        self.width+=delta_width\n",
        "        self.height+=delta_heigh\n",
        "\n",
        "    def move(self,dx,dy):\n",
        "        self.corner.x+=dx\n",
        "        self.corner.y+=dy\n",
        "\n",
        "    def area(self):\n",
        "      return self.width*self.height\n",
        "\n",
        "    def flip(self):\n",
        "      (self.width,self.height)=(self.height,self.width)\n",
        "    \n",
        "    def fallin(self,p):\n",
        "      scopex=self.corner.x+self.width\n",
        "      scopey=self.corner.y+self.height\n",
        "      if p.x in range(se.x,scoplf.cornerex+1) and p.y in range(self.corner.y,scopey+1):\n",
        "          print(\"Point({0},{1}) falls in this rectange\".format(p.x,p.y))\n",
        "      else:\n",
        "          print(\"Point({0},{1}) doesn't fall in this rectange\".format(p.x,p.y))\n",
        "p=Point(4,0)\n",
        "r=Rectangle(p,8,1)\n",
        "print(r.area())\n",
        "\n",
        "r.flip()\n",
        "print(r)\n",
        "\n",
        "p2=Point(7,3)"
      ],
      "execution_count": 7,
      "outputs": [
        {
          "output_type": "stream",
          "text": [
            "8\n",
            "(<__main__.Point object at 0x7fda84b03390>,1,8)\n"
          ],
          "name": "stdout"
        }
      ]
    }
  ]
}