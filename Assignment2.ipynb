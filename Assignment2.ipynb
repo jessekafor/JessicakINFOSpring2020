{
  "nbformat": 4,
  "nbformat_minor": 0,
  "metadata": {
    "colab": {
      "name": "Untitled0.ipynb",
      "provenance": [],
      "authorship_tag": "ABX9TyPRRU3grxQ6gEWBJgu7ZdVj",
      "include_colab_link": true
    },
    "kernelspec": {
      "name": "python3",
      "display_name": "Python 3"
    }
  },
  "cells": [
    {
      "cell_type": "markdown",
      "metadata": {
        "id": "view-in-github",
        "colab_type": "text"
      },
      "source": [
        "<a href=\"https://colab.research.google.com/github/jessekafor/JessicakINFOSpring2020/blob/master/Assignment2.ipynb\" target=\"_parent\"><img src=\"https://colab.research.google.com/assets/colab-badge.svg\" alt=\"Open In Colab\"/></a>"
      ]
    },
    {
      "cell_type": "code",
      "metadata": {
        "id": "ws94Q5tBWYuD",
        "colab_type": "code",
        "colab": {
          "base_uri": "https://localhost:8080/",
          "height": 34
        },
        "outputId": "60a783b7-074c-4c68-b021-45229ba1733b"
      },
      "source": [
        "a=\"All \"\n",
        "b=\"work \"\n",
        "c=\"and \"\n",
        "d=\"no \"\n",
        "e=\"play \"\n",
        "f=\"makes \"\n",
        "f=\"Jack \" \n",
        "g=\"a \"\n",
        "h=\"dull \"\n",
        "i=\"boy.\"\n",
        "print(a,b,c,d,e,f,g,h,i)\n",
        "\n"
      ],
      "execution_count": 1,
      "outputs": [
        {
          "output_type": "stream",
          "text": [
            "All  work  and  no  play  Jack  a  dull  boy.\n"
          ],
          "name": "stdout"
        }
      ]
    },
    {
      "cell_type": "code",
      "metadata": {
        "id": "b-xpTmPGXqzR",
        "colab_type": "code",
        "colab": {
          "base_uri": "https://localhost:8080/",
          "height": 68
        },
        "outputId": "52e696e6-48c8-4572-9447-907e27f9eb10"
      },
      "source": [
        "a=input(\"please enter a number:\")\n",
        "b=input(\"please enter a different number:\")\n",
        "s=3.14*(1+int(a)/int(b))**3\n",
        "print(s)"
      ],
      "execution_count": 3,
      "outputs": [
        {
          "output_type": "stream",
          "text": [
            "please enter a number:2\n",
            "please enter a different number:5\n",
            "8.616159999999999\n"
          ],
          "name": "stdout"
        }
      ]
    }
  ]
}