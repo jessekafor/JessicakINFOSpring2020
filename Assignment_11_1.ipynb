{
  "nbformat": 4,
  "nbformat_minor": 0,
  "metadata": {
    "colab": {
      "name": "Assignment-11-1.ipynb",
      "provenance": [],
      "authorship_tag": "ABX9TyN0sTj0A9/XW7P6gRZntSYn",
      "include_colab_link": true
    },
    "kernelspec": {
      "name": "python3",
      "display_name": "Python 3"
    }
  },
  "cells": [
    {
      "cell_type": "markdown",
      "metadata": {
        "id": "view-in-github",
        "colab_type": "text"
      },
      "source": [
        "<a href=\"https://colab.research.google.com/github/jessekafor/JessicakINFOSpring2020/blob/master/Assignment_11_1.ipynb\" target=\"_parent\"><img src=\"https://colab.research.google.com/assets/colab-badge.svg\" alt=\"Open In Colab\"/></a>"
      ]
    },
    {
      "cell_type": "code",
      "metadata": {
        "id": "3LYtTbu-KOrc",
        "colab_type": "code",
        "colab": {}
      },
      "source": [
        "import pymysql\n",
        "#import sqlite3\n",
        "from sqlalchemy import create_engine\n",
        "import pandas as pd\n",
        "import openpyxl\n",
        "\n",
        "#Created database/table in MySQL Administrator but below added to show I know how\n",
        "\n",
        "def create_database(host,user,passw,dbname):\n",
        "    data = pymysql.connect(host, user, passw)\n",
        "    dbcursor = data.cursor()\n",
        "    sqldb = \"CREATE DATABASE \"+dbname+\"\"\n",
        "    dbcursor.execute(sqldb)\n",
        "\n",
        "    data.commit()\n",
        "    dbcursor.close()\n",
        "    data.close()\n",
        "\n",
        "create_database(\"localhost\", \"root\", \"Update12!\",\"data_11\")\n",
        "\n",
        "def create_table(host,user,passw,dbname,tablename):\n",
        "    data = pymysql.connect(host,user,passw,dbname)\n",
        "    dbcursor = data.cursor()\n",
        "    sqltable = \"CREATE TABLE \"+tablename+\"(dates DATETIME, numbers INT(10))\"\n",
        "    dbcursor.execute(sqltable)\n",
        "\n",
        "    data.commit()\n",
        "    dbcursor.close()\n",
        "    data.close()\n",
        "\n",
        "create_table(\"localhost\",\"root\",\"Update12!\",\"data_11\",\"dates_num\")\n",
        "\n",
        "#We must use pandas to read csv and sqlalchemy to connect and use to_sql()\n",
        "def read_date_num_csv_to_sql(filep,user,passw,host,port,dbname):\n",
        "    csv_data = pd.read_csv(filep, sep=\",\")\n",
        "    df = pd.DataFrame(csv_data)\n",
        "    df[\"dates\"] = pd.to_datetime(df[\"dates\"])\n",
        "    df[\"numbers\"] = pd.to_numeric(df[\"numbers\"])\n",
        "\n",
        "    engine = create_engine('mysql+pymysql://'+user+':'+passw+'@'+host+':'+port+'/'+dbname+'')\n",
        "    # set index true to create index as a column great if need primary key column\n",
        "    df.to_sql(name=\"dates_num\", con=engine, if_exists=\"append\", index=False)\n",
        "\n",
        "read_date_num_csv_to_sql(\"C:/Users/Jessica/Downloads/assign11-1-ch02-data.csv\",\"root\",\"Update12!\",\"localhost\",\"3306\",\"data_11\")\n",
        "\n",
        "# conn = sqlite3.connect(\"data_11.db\") only for sqlite database\n",
        "# here is connection using sqlalchemy and pymysql singce mysldb does not work\n",
        "\n",
        "def export_xlsx(host,user,passw,dbname,tablename,file_path):\n",
        "    data = pymysql.connect(host,user,passw,dbname)\n",
        "    dbcursor = data.cursor()\n",
        "\n",
        "    sql_sum = \"select SUM(numbers) as 'sum of numbers' from \"+tablename+\" group by dates\"\n",
        "\n",
        "    \"\"\"\n",
        "    #read sql query\n",
        "    read_query2 = pd.read_sql_query(sql_num,engine)\n",
        "    print(read_query2)\n",
        "    \"\"\"\n",
        "    command=dbcursor.execute(sql_sum)\n",
        "    results=dbcursor.fetchall()\n",
        "\n",
        "    writer = pd.ExcelWriter(file_path)\n",
        "\n",
        "    df2 = pd.DataFrame(results)\n",
        "    df2.to_excel(writer, index=False, encoding='utf-8', sheet_name='Sheet')\n",
        "    writer.save()\n",
        "\n",
        "    #Close the connection to the database.\n",
        "    data.commit()\n",
        "    dbcursor.close()\n",
        "    data.close()\n",
        "\n",
        "export_xlsx(\"localhost\",\"root\",\"Update12!\",\"data_11\",\"dates_num\",'C:/Users/Jessica/Documents/sum-of-numbers.xlsx')"
      ],
      "execution_count": 0,
      "outputs": []
    }
  ]
}