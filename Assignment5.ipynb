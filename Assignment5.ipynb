{
  "nbformat": 4,
  "nbformat_minor": 0,
  "metadata": {
    "colab": {
      "name": "Assignment5.ipynb",
      "provenance": [],
      "authorship_tag": "ABX9TyPz9yVE2xYcUwZ5qF7J4K7y",
      "include_colab_link": true
    },
    "kernelspec": {
      "name": "python3",
      "display_name": "Python 3"
    }
  },
  "cells": [
    {
      "cell_type": "markdown",
      "metadata": {
        "id": "view-in-github",
        "colab_type": "text"
      },
      "source": [
        "<a href=\"https://colab.research.google.com/github/jessekafor/JessicakINFOSpring2020/blob/master/Assignment5.ipynb\" target=\"_parent\"><img src=\"https://colab.research.google.com/assets/colab-badge.svg\" alt=\"Open In Colab\"/></a>"
      ]
    },
    {
      "cell_type": "code",
      "metadata": {
        "id": "nm22Rn-jfKj5",
        "colab_type": "code",
        "colab": {
          "base_uri": "https://localhost:8080/",
          "height": 68
        },
        "outputId": "9b615aee-8c43-49d8-f822-9417e87c0805"
      },
      "source": [
        "studentInfo = ((\"Jacob\", 35, (\"Physical Education\", \"American Literature\")),(\"Glenda\", 40, (\"Computer Science\", \"Physics\",\"Forensics\")), (\"Kathy\", 20, (\"English\", \"Mathematics\", \"Science\")))\n",
        "for student_name, student_id, student_courses in studentInfo:\n",
        "    print(\"Name:\",(student_name),\"  Student ID:\",(student_id),\"  Courses:\",(student_courses))"
      ],
      "execution_count": 1,
      "outputs": [
        {
          "output_type": "stream",
          "text": [
            "Name: Jacob   Student ID: 35   Courses: ('Physical Education', 'American Literature')\n",
            "Name: Glenda   Student ID: 40   Courses: ('Computer Science', 'Physics', 'Forensics')\n",
            "Name: Kathy   Student ID: 20   Courses: ('English', 'Mathematics', 'Science')\n"
          ],
          "name": "stdout"
        }
      ]
    },
    {
      "cell_type": "code",
      "metadata": {
        "id": "yK99TGKnfcNn",
        "colab_type": "code",
        "colab": {
          "base_uri": "https://localhost:8080/",
          "height": 367
        },
        "outputId": "31864354-1c93-4086-9bd1-264517902cf6"
      },
      "source": [
        "def createMatrix():   \n",
        "    matrix = [[1,2,3,4],[5,6,7,8]]\n",
        "    return matrix\n",
        "\n",
        "def findLocation(num,myMatrix):\n",
        "  result = -1\n",
        "  for i in range(len(matrix)):\n",
        "    for j in range(len(matrix[0])):\n",
        "          if matrix[i][j] == num:\n",
        "            result = (i,j)\n",
        "  return result\n",
        "            \n",
        "\n",
        "myMatrix = createMatrix()\n",
        "numInput = input(\"Enter num: \")\n",
        "\n",
        "result = findLocation(int(numInput),myMatrix)\n",
        "\n",
        "print(result)"
      ],
      "execution_count": 2,
      "outputs": [
        {
          "output_type": "stream",
          "text": [
            "Enter num: 4\n"
          ],
          "name": "stdout"
        },
        {
          "output_type": "error",
          "ename": "NameError",
          "evalue": "ignored",
          "traceback": [
            "\u001b[0;31m---------------------------------------------------------------------------\u001b[0m",
            "\u001b[0;31mNameError\u001b[0m                                 Traceback (most recent call last)",
            "\u001b[0;32m<ipython-input-2-2e82014cac73>\u001b[0m in \u001b[0;36m<module>\u001b[0;34m()\u001b[0m\n\u001b[1;32m     15\u001b[0m \u001b[0mnumInput\u001b[0m \u001b[0;34m=\u001b[0m \u001b[0minput\u001b[0m\u001b[0;34m(\u001b[0m\u001b[0;34m\"Enter num: \"\u001b[0m\u001b[0;34m)\u001b[0m\u001b[0;34m\u001b[0m\u001b[0;34m\u001b[0m\u001b[0m\n\u001b[1;32m     16\u001b[0m \u001b[0;34m\u001b[0m\u001b[0m\n\u001b[0;32m---> 17\u001b[0;31m \u001b[0mresult\u001b[0m \u001b[0;34m=\u001b[0m \u001b[0mfindLocation\u001b[0m\u001b[0;34m(\u001b[0m\u001b[0mint\u001b[0m\u001b[0;34m(\u001b[0m\u001b[0mnumInput\u001b[0m\u001b[0;34m)\u001b[0m\u001b[0;34m,\u001b[0m\u001b[0mmyMatrix\u001b[0m\u001b[0;34m)\u001b[0m\u001b[0;34m\u001b[0m\u001b[0;34m\u001b[0m\u001b[0m\n\u001b[0m\u001b[1;32m     18\u001b[0m \u001b[0;34m\u001b[0m\u001b[0m\n\u001b[1;32m     19\u001b[0m \u001b[0mprint\u001b[0m\u001b[0;34m(\u001b[0m\u001b[0mresult\u001b[0m\u001b[0;34m)\u001b[0m\u001b[0;34m\u001b[0m\u001b[0;34m\u001b[0m\u001b[0m\n",
            "\u001b[0;32m<ipython-input-2-2e82014cac73>\u001b[0m in \u001b[0;36mfindLocation\u001b[0;34m(num, myMatrix)\u001b[0m\n\u001b[1;32m      5\u001b[0m \u001b[0;32mdef\u001b[0m \u001b[0mfindLocation\u001b[0m\u001b[0;34m(\u001b[0m\u001b[0mnum\u001b[0m\u001b[0;34m,\u001b[0m\u001b[0mmyMatrix\u001b[0m\u001b[0;34m)\u001b[0m\u001b[0;34m:\u001b[0m\u001b[0;34m\u001b[0m\u001b[0;34m\u001b[0m\u001b[0m\n\u001b[1;32m      6\u001b[0m   \u001b[0mresult\u001b[0m \u001b[0;34m=\u001b[0m \u001b[0;34m-\u001b[0m\u001b[0;36m1\u001b[0m\u001b[0;34m\u001b[0m\u001b[0;34m\u001b[0m\u001b[0m\n\u001b[0;32m----> 7\u001b[0;31m   \u001b[0;32mfor\u001b[0m \u001b[0mi\u001b[0m \u001b[0;32min\u001b[0m \u001b[0mrange\u001b[0m\u001b[0;34m(\u001b[0m\u001b[0mlen\u001b[0m\u001b[0;34m(\u001b[0m\u001b[0mmatrix\u001b[0m\u001b[0;34m)\u001b[0m\u001b[0;34m)\u001b[0m\u001b[0;34m:\u001b[0m\u001b[0;34m\u001b[0m\u001b[0;34m\u001b[0m\u001b[0m\n\u001b[0m\u001b[1;32m      8\u001b[0m     \u001b[0;32mfor\u001b[0m \u001b[0mj\u001b[0m \u001b[0;32min\u001b[0m \u001b[0mrange\u001b[0m\u001b[0;34m(\u001b[0m\u001b[0mlen\u001b[0m\u001b[0;34m(\u001b[0m\u001b[0mmatrix\u001b[0m\u001b[0;34m[\u001b[0m\u001b[0;36m0\u001b[0m\u001b[0;34m]\u001b[0m\u001b[0;34m)\u001b[0m\u001b[0;34m)\u001b[0m\u001b[0;34m:\u001b[0m\u001b[0;34m\u001b[0m\u001b[0;34m\u001b[0m\u001b[0m\n\u001b[1;32m      9\u001b[0m           \u001b[0;32mif\u001b[0m \u001b[0mmatrix\u001b[0m\u001b[0;34m[\u001b[0m\u001b[0mi\u001b[0m\u001b[0;34m]\u001b[0m\u001b[0;34m[\u001b[0m\u001b[0mj\u001b[0m\u001b[0;34m]\u001b[0m \u001b[0;34m==\u001b[0m \u001b[0mnum\u001b[0m\u001b[0;34m:\u001b[0m\u001b[0;34m\u001b[0m\u001b[0;34m\u001b[0m\u001b[0m\n",
            "\u001b[0;31mNameError\u001b[0m: name 'matrix' is not defined"
          ]
        }
      ]
    },
    {
      "cell_type": "code",
      "metadata": {
        "id": "WtfxmS71g4C7",
        "colab_type": "code",
        "outputId": "cc8ac72e-4c9c-462c-f5ef-f64023c4c256",
        "colab": {
          "base_uri": "https://localhost:8080/",
          "height": 51
        }
      },
      "source": [
        "matrix = [[1,2,3,4],[5,6,7,8]]\n",
        "\n",
        "def findLocation(num):\n",
        "  for i in range(len(matrix)):\n",
        "     for j in range(len(matrix[0])):\n",
        "          if matrix[i][j] == num:\n",
        "            print(i,j)\n",
        "\n",
        "numInput = input(\"Enter num:\")\n",
        "findLocation(int(numInput))"
      ],
      "execution_count": 4,
      "outputs": [
        {
          "output_type": "stream",
          "text": [
            "Enter num:4\n",
            "0 3\n"
          ],
          "name": "stdout"
        }
      ]
    },
    {
      "cell_type": "code",
      "metadata": {
        "id": "lUKntMJBgcLV",
        "colab_type": "code",
        "colab": {
          "base_uri": "https://localhost:8080/",
          "height": 102
        },
        "outputId": "55d48b73-87d2-4a62-a133-614b5f40e970"
      },
      "source": [
        "def getDuplicatesWithCount(listOfElems):\n",
        "    dictOfElems = dict()\n",
        "\n",
        "    for elem in listOfElems:\n",
        "        if elem in dictOfElems:\n",
        "            dictOfElems[elem] += 1\n",
        "        else:\n",
        "            dictOfElems[elem] = 1\n",
        "\n",
        "    dictOfElems = {key: value for key, value in dictOfElems.items()}\n",
        "\n",
        "    return dictOfElems\n",
        "\n",
        "def printDictionary(dictOfElems):\n",
        "  print(\"Word       Count\")\n",
        "  print(\"================\")\n",
        "  x = \" \"\n",
        "  for key, value in dictOfElems.items():\n",
        "    y = 13 - len(key)\n",
        "    print(key , y*x , value)\n",
        "\n",
        "myString = input(\"Type a sentence: \")\n",
        "listOfElems = myString.split()\n",
        "\n",
        "dictOfElems = getDuplicatesWithCount(listOfElems)\n",
        "printDictionary(dictOfElems)"
      ],
      "execution_count": 3,
      "outputs": [
        {
          "output_type": "stream",
          "text": [
            "Type a sentence: Hello World\n",
            "Word       Count\n",
            "================\n",
            "Hello          1\n",
            "World          1\n"
          ],
          "name": "stdout"
        }
      ]
    }
  ]
}